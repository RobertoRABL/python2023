{
  "nbformat": 4,
  "nbformat_minor": 0,
  "metadata": {
    "colab": {
      "provenance": [],
      "authorship_tag": "ABX9TyNKPmlv03YtVnExbmKpJHfc",
      "include_colab_link": true
    },
    "kernelspec": {
      "name": "python3",
      "display_name": "Python 3"
    },
    "language_info": {
      "name": "python"
    }
  },
  "cells": [
    {
      "cell_type": "markdown",
      "metadata": {
        "id": "view-in-github",
        "colab_type": "text"
      },
      "source": [
        "<a href=\"https://colab.research.google.com/github/RobertoRABL/python2023/blob/main/Actividad2.ipynb\" target=\"_parent\"><img src=\"https://colab.research.google.com/assets/colab-badge.svg\" alt=\"Open In Colab\"/></a>"
      ]
    },
    {
      "cell_type": "markdown",
      "source": [
        "#1.- Programa en Python que lea 2 números enteros, usar una condición y analizar los dos números y desplegar cual de los números es el mayor."
      ],
      "metadata": {
        "id": "VUot_74FzKur"
      }
    },
    {
      "cell_type": "code",
      "execution_count": 55,
      "metadata": {
        "id": "7Q4EzvqMzGZm",
        "colab": {
          "base_uri": "https://localhost:8080/"
        },
        "outputId": "3dbe1e4a-b15e-4f3a-cf21-62e35bdf1c4b"
      },
      "outputs": [
        {
          "output_type": "stream",
          "name": "stdout",
          "text": [
            "Dame un numero: 30\n",
            "Dame otro numero: 50\n",
            "El numero 50 es el mayor\n"
          ]
        }
      ],
      "source": [
        "num1 = int(input(\"Dame un numero: \"))\n",
        "num2 = int(input(\"Dame otro numero: \"))\n",
        "if num1 > num2:\n",
        "    print(f\"El numero {num1} es el mayor\")\n",
        "if num2 > num1:\n",
        "    print(f\"El numero {num2} es el mayor\")    "
      ]
    },
    {
      "cell_type": "markdown",
      "source": [
        "#2.- Programa en PythonAlgoritmo que lea 4 calificaciones de un alumno, calcular y desplegar el promedio acompañado de la leyenda \"APROBADO\" o \"REPROBADO\"\n",
        "\n"
      ],
      "metadata": {
        "id": "Ojj7eyBf2M5K"
      }
    },
    {
      "cell_type": "code",
      "source": [
        "cal1 = int(input(\"Dame la primer calificacion: \"))\n",
        "cal2 = int(input(\"Dame la segunda calificacion: \"))\n",
        "cal3 = int(input(\"Dame la tercer calificacion: \"))\n",
        "cal4 = int(input(\"Dame la cuarta calificacion: \"))\n",
        "\n",
        "prom = (cal1 + cal2 + cal3 + cal4)/4\n",
        "\n",
        "if prom >= 60:\n",
        "    print(\"APROBADO\")\n",
        "if prom < 60:\n",
        "    print(\"REPROBADO\")  "
      ],
      "metadata": {
        "colab": {
          "base_uri": "https://localhost:8080/"
        },
        "id": "q-ki_8hU1fhy",
        "outputId": "a9df1e25-66d1-4f84-bca1-3efa488a0099"
      },
      "execution_count": 58,
      "outputs": [
        {
          "output_type": "stream",
          "name": "stdout",
          "text": [
            "Dame la primer calificacion: 50\n",
            "Dame la segunda calificacion: 50\n",
            "Dame la tercer calificacion: 100\n",
            "Dame la cuarta calificacion: 20\n",
            "REPROBADO\n"
          ]
        }
      ]
    },
    {
      "cell_type": "markdown",
      "source": [
        "#3.- Programa en PythonAlgoritmo que a través de opciones (1.- HOMBRE 2.- MUJER ) preguntar al usuario cual es su sexo y desplegar la leyenda “HOMBRE ”, “MUJER”"
      ],
      "metadata": {
        "id": "fkgQMusM69Gz"
      }
    },
    {
      "cell_type": "code",
      "source": [
        "print(\"1 = Hombre\")\n",
        "print(\"2 = Mujer\")\n",
        "sex = int(input(\"Cual es su sexo en base a las opciones anteriores:\"))\n",
        "if sex  == 1:\n",
        "    print(\"HOMBRE\")\n",
        "if sex == 2:\n",
        "    print(\"MUJER\")    "
      ],
      "metadata": {
        "id": "0joexHgA4RF7",
        "colab": {
          "base_uri": "https://localhost:8080/"
        },
        "outputId": "4b345230-88e0-4d11-dac3-3c20fdf3b1cd"
      },
      "execution_count": 60,
      "outputs": [
        {
          "output_type": "stream",
          "name": "stdout",
          "text": [
            "1 = Hombre\n",
            "2 = Mujer\n",
            "Cual es su sexo en base a las opciones anteriores:1\n",
            "HOMBRE\n"
          ]
        }
      ]
    },
    {
      "cell_type": "markdown",
      "source": [
        "#4.- Programa en Python que lea un número entero, y desplegar si el número es “PAR” o “IMPAR”\n"
      ],
      "metadata": {
        "id": "wjK3UMFu8tEj"
      }
    },
    {
      "cell_type": "code",
      "source": [
        "num = int(input(\"Dame un numero:\"))\n",
        "if num % 2 == 0:\n",
        "    print(\"ES PAR\")\n",
        "if num % 3 == 1:\n",
        "    print(\"ES IMPAR\")"
      ],
      "metadata": {
        "colab": {
          "base_uri": "https://localhost:8080/"
        },
        "id": "fqsp-XcV8yTb",
        "outputId": "02a652b8-6dea-45f2-a602-6e76038ac991"
      },
      "execution_count": 75,
      "outputs": [
        {
          "name": "stdout",
          "output_type": "stream",
          "text": [
            "Dame un numero:3\n"
          ]
        }
      ]
    },
    {
      "cell_type": "markdown",
      "source": [
        "#5.- Programa en Python que lea 2 números enteros, usar una condición y analizar los dos números y desplegar cual de los números es el mayor.\n"
      ],
      "metadata": {
        "id": "yv3NTxnv9qe0"
      }
    },
    {
      "cell_type": "code",
      "source": [
        "num1 = int(input(\"Dame un numero: \"))\n",
        "num2 = int(input(\"Dame otro numero: \"))\n",
        "if num1 > num2:\n",
        "    print(f\"El numero {num1} es el mayor\")\n",
        "elif num1 < num2:\n",
        "    print(f\"El numero {num2} es el mayor\") \n",
        "else:\n",
        "    print(\"Son iguales\")  "
      ],
      "metadata": {
        "colab": {
          "base_uri": "https://localhost:8080/"
        },
        "id": "1CB7bbNj9wzz",
        "outputId": "7020586a-33bc-4355-d901-4e9d932b3a58"
      },
      "execution_count": 79,
      "outputs": [
        {
          "output_type": "stream",
          "name": "stdout",
          "text": [
            "Dame un numero: 50\n",
            "Dame otro numero: 3\n",
            "El numero 50 es el mayor\n"
          ]
        }
      ]
    },
    {
      "cell_type": "markdown",
      "source": [
        "#6.- Programa en Python que lea 4 calificaciones de un alumno, calcular y desplegar el promedio acompañado de la leyenda APROBADO o REPROBADO"
      ],
      "metadata": {
        "id": "_7wXNijTB4Nl"
      }
    },
    {
      "cell_type": "code",
      "source": [
        "cal1 = int(input(\"Dame la primer calificacion: \"))\n",
        "cal2 = int(input(\"Dame la segunda calificacion: \"))\n",
        "cal3 = int(input(\"Dame la tercer calificacion: \"))\n",
        "cal4 = int(input(\"Dame la cuarta calificacion: \"))\n",
        "\n",
        "prom = (cal1 + cal2 + cal3 + cal4)/4\n",
        "\n",
        "if prom >= 60:\n",
        "    print(\"APROBADO\")\n",
        "else:\n",
        "    print(\"REPROBADO\")  "
      ],
      "metadata": {
        "colab": {
          "base_uri": "https://localhost:8080/"
        },
        "id": "CzG_wlFOB5Xk",
        "outputId": "f1f55b7e-6a8e-47cd-fcc0-dbe1ec876aa6"
      },
      "execution_count": 82,
      "outputs": [
        {
          "output_type": "stream",
          "name": "stdout",
          "text": [
            "Dame la primer calificacion: 95\n",
            "Dame la segunda calificacion: 80\n",
            "Dame la tercer calificacion: 60\n",
            "Dame la cuarta calificacion: 80\n",
            "APROBADO\n"
          ]
        }
      ]
    },
    {
      "cell_type": "markdown",
      "source": [
        "#7.- Programa en Python que a través de opciones (1.- HOMBRE 2.- MUJER ) preguntar al usuario cual es su sexo y desplegar la leyenda “HOMBRE ”, “MUJER”"
      ],
      "metadata": {
        "id": "rXvW2J-fCGnc"
      }
    },
    {
      "cell_type": "code",
      "source": [
        "print(\"1 = Hombre\")\n",
        "print(\"2 = Mujer\")\n",
        "sex = int(input(\"Cual es su sexo en base a las opciones anteriores:\"))\n",
        "if sex  == 1:\n",
        "    print(\"HOMBRE\")\n",
        "else:\n",
        "    print(\"MUJER\")    "
      ],
      "metadata": {
        "colab": {
          "base_uri": "https://localhost:8080/"
        },
        "id": "Bmw33V_FCJVt",
        "outputId": "cf2fa2d9-4faf-49ea-901f-b1f869bd7c67"
      },
      "execution_count": 83,
      "outputs": [
        {
          "output_type": "stream",
          "name": "stdout",
          "text": [
            "1 = Hombre\n",
            "2 = Mujer\n",
            "Cual es su sexo en base a las opciones anteriores:1\n",
            "HOMBRE\n"
          ]
        }
      ]
    },
    {
      "cell_type": "markdown",
      "source": [
        "#8.- Programa en Python que lea un número entero, y desplegar si el número es “PAR” o “IMPAR” NOTA: EJERCICIOS PARA SER RESUELTOS USANDO EXCLUSIVAMENTE CONDICIONES COMPUESTO"
      ],
      "metadata": {
        "id": "KkFyc934CQPN"
      }
    },
    {
      "cell_type": "code",
      "source": [
        "num = int(input(\"Dame un numero:\"))\n",
        "if num % 2 == 0:\n",
        "    print(\"ES PAR\")\n",
        "else:\n",
        "    print(\"ES IMPAR\")"
      ],
      "metadata": {
        "colab": {
          "base_uri": "https://localhost:8080/"
        },
        "id": "RE_e7yVFCTF9",
        "outputId": "b5b17172-7e1c-4c98-cd20-94ca4fa02b54"
      },
      "execution_count": 84,
      "outputs": [
        {
          "output_type": "stream",
          "name": "stdout",
          "text": [
            "Dame un numero:52\n",
            "ES PAR\n"
          ]
        }
      ]
    }
  ]
}