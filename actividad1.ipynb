{
  "nbformat": 4,
  "nbformat_minor": 0,
  "metadata": {
    "colab": {
      "provenance": [],
      "authorship_tag": "ABX9TyM1MGD5GA7Jccv4gt28kM6A",
      "include_colab_link": true
    },
    "kernelspec": {
      "name": "python3",
      "display_name": "Python 3"
    },
    "language_info": {
      "name": "python"
    }
  },
  "cells": [
    {
      "cell_type": "markdown",
      "metadata": {
        "id": "view-in-github",
        "colab_type": "text"
      },
      "source": [
        "<a href=\"https://colab.research.google.com/github/RobertoRABL/python2023/blob/main/actividad1.ipynb\" target=\"_parent\"><img src=\"https://colab.research.google.com/assets/colab-badge.svg\" alt=\"Open In Colab\"/></a>"
      ]
    },
    {
      "cell_type": "markdown",
      "source": [
        "## 1- Programa en Python Mostrar un mensaje que diga “HOLA MUNDO” en un solo renglón usando 2 print"
      ],
      "metadata": {
        "id": "JGMJ6RfdOMIr"
      }
    },
    {
      "cell_type": "code",
      "execution_count": 1,
      "metadata": {
        "colab": {
          "base_uri": "https://localhost:8080/"
        },
        "id": "TkAJWaF-OKX0",
        "outputId": "d1fa3da8-dcaa-479a-ba3d-029d5b7cb05d"
      },
      "outputs": [
        {
          "output_type": "stream",
          "name": "stdout",
          "text": [
            "Hola mundo\n"
          ]
        }
      ],
      "source": [
        "print(\"Hola \", end=\"\")\n",
        "print(\"mundo\")"
      ]
    },
    {
      "cell_type": "markdown",
      "source": [
        "## 2- Programa en Python que lea 2 números, realizar la suma y desplegar la suma de los 2 números"
      ],
      "metadata": {
        "id": "4LhhfyV2OqXD"
      }
    },
    {
      "cell_type": "code",
      "source": [
        "num1 = int(input(\"Dame un numero:\"))\n",
        "num2 = int(input(\"Dame otro numero\"))\n",
        "print(f\"La suma es:{num1 + num2}\")"
      ],
      "metadata": {
        "colab": {
          "base_uri": "https://localhost:8080/"
        },
        "id": "2j_MdpdIOuNj",
        "outputId": "454d06ff-9435-40b7-c1bc-739bf3bc962f"
      },
      "execution_count": 2,
      "outputs": [
        {
          "output_type": "stream",
          "name": "stdout",
          "text": [
            "Dame un numero:5\n",
            "Dame otro numero10\n",
            "La suma es:15\n"
          ]
        }
      ]
    },
    {
      "cell_type": "markdown",
      "source": [
        "## 3- Programa en Python que lea 2 números y realice las 4 operaciones básicas"
      ],
      "metadata": {
        "id": "g9QjnT1fP8Zo"
      }
    },
    {
      "cell_type": "code",
      "source": [
        "num1 = int(input(\"Dame un numero:\"))\n",
        "num2 = int(input(\"Dame otro numero\"))\n",
        "print(f\"La suma es:{num1 + num2}\")\n",
        "print(f\"La resta es:{num1 - num2}\")\n",
        "print(f\"La multiplicacion es:{num1 * num2}\")\n",
        "print(f\"La division es:{num1 / num2}\")"
      ],
      "metadata": {
        "colab": {
          "base_uri": "https://localhost:8080/"
        },
        "id": "j4gpF3mrQBzx",
        "outputId": "35a68d4f-d7da-4d3b-fbfb-1055b1a6b2ef"
      },
      "execution_count": 3,
      "outputs": [
        {
          "output_type": "stream",
          "name": "stdout",
          "text": [
            "Dame un numero:14\n",
            "Dame otro numero25\n",
            "La suma es:39\n",
            "La resta es:-11\n",
            "La multiplicacion es:350\n",
            "La division es:0.56\n"
          ]
        }
      ]
    },
    {
      "cell_type": "markdown",
      "source": [
        "## 4- Programa en Python Que sirva para calcular el área de un triángulo"
      ],
      "metadata": {
        "id": "s1kbvqukQbYg"
      }
    },
    {
      "cell_type": "code",
      "source": [
        "base = int(input(\"Dame el valor de la base:\"))\n",
        "alt = int(input(\"Dame la altura:\"))\n",
        "print(f\"El area del triangulo es:{(base * alt) / 2}\")"
      ],
      "metadata": {
        "colab": {
          "base_uri": "https://localhost:8080/"
        },
        "id": "M2KT44PTQei4",
        "outputId": "8e82c472-82f5-494a-85d2-944fd3b70099"
      },
      "execution_count": 4,
      "outputs": [
        {
          "output_type": "stream",
          "name": "stdout",
          "text": [
            "Dame el valor de la base:25\n",
            "Dame la altura:12\n",
            "El area del triangulo es:150.0\n"
          ]
        }
      ]
    },
    {
      "cell_type": "markdown",
      "source": [
        "## 5- Programa en Python que lea una medida en centímetros y desplegar la misma medida pero convertida en pies y pulgadas"
      ],
      "metadata": {
        "id": "DVhAe7n3ROPA"
      }
    },
    {
      "cell_type": "code",
      "source": [
        "cm = int(input(\"Dame una medida en centimetros\"))\n",
        "print(f\"El valor en pies es:{cm / 30.48}\")\n",
        "print(f\"El valor en pulgadas es:{cm / 2.54}\")"
      ],
      "metadata": {
        "colab": {
          "base_uri": "https://localhost:8080/"
        },
        "id": "COXIg-AzRRaQ",
        "outputId": "b335fec9-6119-4412-833a-875652533cee"
      },
      "execution_count": 5,
      "outputs": [
        {
          "output_type": "stream",
          "name": "stdout",
          "text": [
            "Dame una medida en centimetros256\n",
            "El valor en pies es:8.398950131233596\n",
            "El valor en pulgadas es:100.78740157480314\n"
          ]
        }
      ]
    },
    {
      "cell_type": "markdown",
      "source": [
        "## 6- Programa en Python que lea una temperatura en grados centígrados y desplegarla en Grados Fahrenheit y grados kelvin"
      ],
      "metadata": {
        "id": "onEK-EDwSJr4"
      }
    },
    {
      "cell_type": "code",
      "source": [
        "temp = int(input(\"Dame una temperatura en grados centigrados:\"))\n",
        "print(f\"En grados Fahrentheit es:{(temp * 9 / 5) + 32}\")\n",
        "print(f\"En grados Kelvin es:{temp + 273.15}\")"
      ],
      "metadata": {
        "colab": {
          "base_uri": "https://localhost:8080/"
        },
        "id": "V_PssAtCSMFB",
        "outputId": "abb3ecd2-ca29-4429-ca44-64cc39809b4e"
      },
      "execution_count": 6,
      "outputs": [
        {
          "output_type": "stream",
          "name": "stdout",
          "text": [
            "Dame una temperatura en grados centigrados:125\n",
            "En grados Fahrentheit es:257.0\n",
            "En grados Kelvin es:398.15\n"
          ]
        }
      ]
    },
    {
      "cell_type": "markdown",
      "source": [
        "## 7- Programa en Python que lea 4 calificaciones de un alumno, desplegar el promedio del alumno"
      ],
      "metadata": {
        "id": "udvavr1UUoGA"
      }
    },
    {
      "cell_type": "code",
      "source": [
        "cal1 = int(input(\"Dame la primer calificacion:\"))\n",
        "cal2 = int(input(\"Dame la segunda calificacion:\"))\n",
        "cal3 = int(input(\"Dame la tercer calificacion:\"))\n",
        "cal4 = int(input(\"Dame la cuarta calificacion:\"))\n",
        "print(f\"El promedio es:{(cal1 + cal2 + cal3 + cal4) / 4}\")"
      ],
      "metadata": {
        "colab": {
          "base_uri": "https://localhost:8080/"
        },
        "id": "dEGYGgOOUq9I",
        "outputId": "7a43c0ed-30a1-4f07-f1c5-85cb0b8cb80c"
      },
      "execution_count": 7,
      "outputs": [
        {
          "output_type": "stream",
          "name": "stdout",
          "text": [
            "Dame la primer calificacion:58\n",
            "Dame la segunda calificacion:36\n",
            "Dame la tercer calificacion:84\n",
            "Dame la cuarta calificacion:74\n",
            "El promedio es:63.0\n"
          ]
        }
      ]
    },
    {
      "cell_type": "markdown",
      "source": [
        "## Repositorio\n",
        "\n",
        "https://github.com/RobertoRABL/python2023/tree/main\n"
      ],
      "metadata": {
        "id": "O5SianF57gAL"
      }
    }
  ]
}