{
  "nbformat": 4,
  "nbformat_minor": 0,
  "metadata": {
    "colab": {
      "provenance": [],
      "authorship_tag": "ABX9TyMid6+ToHcWiAY5XWweMmQ9",
      "include_colab_link": true
    },
    "kernelspec": {
      "name": "python3",
      "display_name": "Python 3"
    },
    "language_info": {
      "name": "python"
    }
  },
  "cells": [
    {
      "cell_type": "markdown",
      "metadata": {
        "id": "view-in-github",
        "colab_type": "text"
      },
      "source": [
        "<a href=\"https://colab.research.google.com/github/RobertoRABL/python2023/blob/main/actividad1.ipynb\" target=\"_parent\"><img src=\"https://colab.research.google.com/assets/colab-badge.svg\" alt=\"Open In Colab\"/></a>"
      ]
    },
    {
      "cell_type": "markdown",
      "source": [
        " Programa en Python Mostrar un mensaje que diga “HOLA MUNDO” en un solo renglón usando 2 print"
      ],
      "metadata": {
        "id": "JGMJ6RfdOMIr"
      }
    },
    {
      "cell_type": "code",
      "execution_count": 3,
      "metadata": {
        "colab": {
          "base_uri": "https://localhost:8080/"
        },
        "id": "TkAJWaF-OKX0",
        "outputId": "e83c5b06-f1ef-4b7c-edaa-dfff265877ea"
      },
      "outputs": [
        {
          "output_type": "stream",
          "name": "stdout",
          "text": [
            "Hola mundo\n"
          ]
        }
      ],
      "source": [
        "print(\"Hola \", end=\"\")\n",
        "print(\"mundo\")"
      ]
    },
    {
      "cell_type": "markdown",
      "source": [
        "Programa en Python que lea 2 números, realizar la\n",
        "\n",
        "suma y desplegar la suma de los 2 números"
      ],
      "metadata": {
        "id": "4LhhfyV2OqXD"
      }
    },
    {
      "cell_type": "code",
      "source": [
        "num1 = int(input(\"Dame un numero:\"))\n",
        "num2 = int(input(\"Dame otro numero\"))\n",
        "print(f\"La suma es:{num1 + num2}\")"
      ],
      "metadata": {
        "colab": {
          "base_uri": "https://localhost:8080/"
        },
        "id": "2j_MdpdIOuNj",
        "outputId": "991c0295-b192-44fd-92ba-335eb1431a34"
      },
      "execution_count": 5,
      "outputs": [
        {
          "output_type": "stream",
          "name": "stdout",
          "text": [
            "Dame un numero:15\n",
            "Dame otro numero10\n",
            "La suma es:25\n"
          ]
        }
      ]
    },
    {
      "cell_type": "markdown",
      "source": [
        "Programa en Python que lea 2 números y realice las 4\n",
        "\n",
        "operaciones básicas"
      ],
      "metadata": {
        "id": "g9QjnT1fP8Zo"
      }
    },
    {
      "cell_type": "code",
      "source": [
        "num1 = int(input(\"Dame un numero:\"))\n",
        "num2 = int(input(\"Dame otro numero\"))\n",
        "print(f\"La suma es:{num1 + num2}\")\n",
        "print(f\"La resta es:{num1 - num2}\")\n",
        "print(f\"La multiplicacion es:{num1 * num2}\")\n",
        "print(f\"La division es:{num1 / num2}\")"
      ],
      "metadata": {
        "colab": {
          "base_uri": "https://localhost:8080/"
        },
        "id": "j4gpF3mrQBzx",
        "outputId": "a035e46a-5fab-4bc6-9048-4582dde9680b"
      },
      "execution_count": 6,
      "outputs": [
        {
          "output_type": "stream",
          "name": "stdout",
          "text": [
            "Dame un numero:12\n",
            "Dame otro numero6\n",
            "La suma es:18\n",
            "La resta es:6\n",
            "La multiplicacion es:72\n",
            "La division es:2.0\n"
          ]
        }
      ]
    },
    {
      "cell_type": "markdown",
      "source": [
        "Programa en Python Que sirva para calcular el área de\n",
        "\n",
        "un triángulo"
      ],
      "metadata": {
        "id": "s1kbvqukQbYg"
      }
    },
    {
      "cell_type": "code",
      "source": [
        "base = int(input(\"Dame el valor de la base:\"))\n",
        "alt = int(input(\"Dame la altura:\"))\n",
        "print(f\"El area del triangulo es:{(base * alt)/2}\")"
      ],
      "metadata": {
        "colab": {
          "base_uri": "https://localhost:8080/"
        },
        "id": "M2KT44PTQei4",
        "outputId": "a600d5f1-f46f-4e22-bf62-1e9e14538bf9"
      },
      "execution_count": 8,
      "outputs": [
        {
          "output_type": "stream",
          "name": "stdout",
          "text": [
            "Dame el valor de la base:10\n",
            "Dame la altura:5\n",
            "El area del triangulo es:25.0\n"
          ]
        }
      ]
    },
    {
      "cell_type": "markdown",
      "source": [
        "Programa en Python que lea una medida en centímetros y\n",
        "\n",
        "desplegar la misma medida pero convertida en pies y pulgadas"
      ],
      "metadata": {
        "id": "DVhAe7n3ROPA"
      }
    },
    {
      "cell_type": "code",
      "source": [
        "cm = int(input(\"Dame una medida en centimetros\"))\n",
        "print(f\"El valor en pies es:{cm / 30.48}\")\n",
        "print(f\"El valor en pulgadas es:{cm / 2.54}\")"
      ],
      "metadata": {
        "colab": {
          "base_uri": "https://localhost:8080/"
        },
        "id": "COXIg-AzRRaQ",
        "outputId": "cf00b5a5-08fa-4ac1-fc72-54c08343727e"
      },
      "execution_count": 11,
      "outputs": [
        {
          "output_type": "stream",
          "name": "stdout",
          "text": [
            "Dame una medida en centimetros23\n",
            "El valor en pies es:0.7545931758530183\n",
            "El valor en pulgadas es:9.05511811023622\n"
          ]
        }
      ]
    },
    {
      "cell_type": "markdown",
      "source": [
        " Programa en Python que lea una temperatura en\n",
        "\n",
        "grados centígrados y desplegarla en Grados Fahrenheit y grados\n",
        "\n",
        "kelvin"
      ],
      "metadata": {
        "id": "onEK-EDwSJr4"
      }
    },
    {
      "cell_type": "code",
      "source": [
        "temp = int(input(\"Dame una temperatura en grados centigrados:\"))\n",
        "print(f\"En grados Fahrentheit es:{(temp *9/5)+32}\")\n",
        "print(f\"En grados Kelvin es:{temp + 273.15}\")"
      ],
      "metadata": {
        "colab": {
          "base_uri": "https://localhost:8080/"
        },
        "id": "V_PssAtCSMFB",
        "outputId": "5a486d1b-5e28-46ac-b6b7-bac5f3418ce8"
      },
      "execution_count": 12,
      "outputs": [
        {
          "output_type": "stream",
          "name": "stdout",
          "text": [
            "Dame una temperatura en grados centigrados:23\n",
            "En grados Fahrentheit es:73.4\n",
            "En grados Kelvin es:296.15\n"
          ]
        }
      ]
    },
    {
      "cell_type": "markdown",
      "source": [
        "Programa en Python que lea 4 calificaciones de un alumno,\n",
        "\n",
        "desplegar el promedio del alumno"
      ],
      "metadata": {
        "id": "udvavr1UUoGA"
      }
    },
    {
      "cell_type": "code",
      "source": [
        "cal1 = int(input(\"Dame la primer calificacion:\"))\n",
        "cal2 = int(input(\"Dame la segunda calificacion:\"))\n",
        "cal3 = int(input(\"Dame la tercer calificacion:\"))\n",
        "cal4 = int(input(\"Dame la cuarta calificacion:\"))\n",
        "print(f\"El promedio es:{(cal1 + cal2 + cal3 + cal4)/4}\")"
      ],
      "metadata": {
        "colab": {
          "base_uri": "https://localhost:8080/"
        },
        "id": "dEGYGgOOUq9I",
        "outputId": "3658743c-de21-4a03-ff8c-0f30455f1f45"
      },
      "execution_count": 13,
      "outputs": [
        {
          "output_type": "stream",
          "name": "stdout",
          "text": [
            "Dame la primer calificacion:5\n",
            "Dame la segunda calificacion:10\n",
            "Dame la tercer calificacion:6\n",
            "Dame la cuarta calificacion:9\n",
            "El promedio es:7.5\n"
          ]
        }
      ]
    }
  ]
}