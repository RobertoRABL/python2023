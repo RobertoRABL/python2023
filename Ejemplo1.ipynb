{
  "nbformat": 4,
  "nbformat_minor": 0,
  "metadata": {
    "colab": {
      "provenance": [],
      "authorship_tag": "ABX9TyNzMGqtlKYEzmi9XTOIIS/n",
      "include_colab_link": true
    },
    "kernelspec": {
      "name": "python3",
      "display_name": "Python 3"
    },
    "language_info": {
      "name": "python"
    }
  },
  "cells": [
    {
      "cell_type": "markdown",
      "metadata": {
        "id": "view-in-github",
        "colab_type": "text"
      },
      "source": [
        "<a href=\"https://colab.research.google.com/github/RobertoRABL/python2023/blob/main/Ejemplo1.ipynb\" target=\"_parent\"><img src=\"https://colab.research.google.com/assets/colab-badge.svg\" alt=\"Open In Colab\"/></a>"
      ]
    },
    {
      "cell_type": "markdown",
      "source": [
        "#Mi primer progama de python\n",
        "\n",
        "\n",
        "1.   USAR COLABORATORY\n",
        "2.   GIT HUB\n",
        "3.   SENTENCIA DE SALIDA.\n",
        "\n",
        "\n"
      ],
      "metadata": {
        "id": "cvWd4xHGzYQb"
      }
    },
    {
      "cell_type": "code",
      "source": [
        "num = 10\n"
      ],
      "metadata": {
        "id": "CiMVBYFc2CR3"
      },
      "execution_count": 7,
      "outputs": []
    },
    {
      "cell_type": "code",
      "execution_count": null,
      "metadata": {
        "id": "qIFHUZzXwlbq"
      },
      "outputs": [],
      "source": [
        "print (\"hola mundo\")"
      ]
    },
    {
      "cell_type": "markdown",
      "source": [
        "# Este es mi nombre"
      ],
      "metadata": {
        "id": "xOsBw24I1Ld6"
      }
    },
    {
      "cell_type": "code",
      "source": [
        "print (\"Roberto Alejandro Bonilla Lemus\")"
      ],
      "metadata": {
        "id": "3kly3C2m0LSc"
      },
      "execution_count": null,
      "outputs": []
    },
    {
      "cell_type": "code",
      "source": [],
      "metadata": {
        "id": "D5aCoDNr2WHC"
      },
      "execution_count": null,
      "outputs": []
    }
  ]
}