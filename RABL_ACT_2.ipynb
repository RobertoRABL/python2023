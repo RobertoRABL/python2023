{
  "nbformat": 4,
  "nbformat_minor": 0,
  "metadata": {
    "colab": {
      "provenance": [],
      "authorship_tag": "ABX9TyMHbnvlFDZhpJa4xUzaY9u1",
      "include_colab_link": true
    },
    "kernelspec": {
      "name": "python3",
      "display_name": "Python 3"
    },
    "language_info": {
      "name": "python"
    }
  },
  "cells": [
    {
      "cell_type": "markdown",
      "metadata": {
        "id": "view-in-github",
        "colab_type": "text"
      },
      "source": [
        "<a href=\"https://colab.research.google.com/github/RobertoRABL/python2023/blob/main/RABL_ACT_2.ipynb\" target=\"_parent\"><img src=\"https://colab.research.google.com/assets/colab-badge.svg\" alt=\"Open In Colab\"/></a>"
      ]
    },
    {
      "cell_type": "markdown",
      "source": [
        "# ACTIVIDAD 2\n",
        "## Fecha: 22 de agosto de 2023\n",
        "\n",
        "## Roberto Alejandro Bonilla Lemus"
      ],
      "metadata": {
        "id": "CwZqY34b6WAx"
      }
    },
    {
      "cell_type": "markdown",
      "source": [
        "#1.- Programa en Python que lea 2 números enteros, usar una condición y analizar los dos números y desplegar cual de los números es el mayor."
      ],
      "metadata": {
        "id": "VUot_74FzKur"
      }
    },
    {
      "cell_type": "code",
      "execution_count": 5,
      "metadata": {
        "id": "7Q4EzvqMzGZm",
        "colab": {
          "base_uri": "https://localhost:8080/"
        },
        "outputId": "833ac24c-c990-4276-a728-3a6edce97847"
      },
      "outputs": [
        {
          "output_type": "stream",
          "name": "stdout",
          "text": [
            "Dame un numero: 15\n",
            "Dame otro numero: 22\n",
            "El numero 22 es el mayor\n"
          ]
        }
      ],
      "source": [
        "num1 = int(input(\"Dame un numero: \"))\n",
        "num2 = int(input(\"Dame otro numero: \"))\n",
        "if num1 > num2:\n",
        "    print(f\"El numero {num1} es el mayor\")\n",
        "if num2 > num1:\n",
        "    print(f\"El numero {num2} es el mayor\")"
      ]
    },
    {
      "cell_type": "markdown",
      "source": [
        "#2.- Programa en PythonAlgoritmo que lea 4 calificaciones de un alumno, calcular y desplegar el promedio acompañado de la leyenda \"APROBADO\" o \"REPROBADO\"\n",
        "\n"
      ],
      "metadata": {
        "id": "Ojj7eyBf2M5K"
      }
    },
    {
      "cell_type": "code",
      "source": [
        "cal1 = int(input(\"Dame la primer calificacion: \"))\n",
        "cal2 = int(input(\"Dame la segunda calificacion: \"))\n",
        "cal3 = int(input(\"Dame la tercer calificacion: \"))\n",
        "cal4 = int(input(\"Dame la cuarta calificacion: \"))\n",
        "\n",
        "prom = (cal1 + cal2 + cal3 + cal4)/4\n",
        "\n",
        "if prom >= 60:\n",
        "    print(f\"Tu promedio fue:{prom} APROBADO\")\n",
        "if prom < 60:\n",
        "    print(f\"Tu promedio fue:{prom} REPROBADO\")"
      ],
      "metadata": {
        "colab": {
          "base_uri": "https://localhost:8080/"
        },
        "id": "q-ki_8hU1fhy",
        "outputId": "39782c6d-4e16-47c0-bf6c-83200eb9b964"
      },
      "execution_count": 7,
      "outputs": [
        {
          "output_type": "stream",
          "name": "stdout",
          "text": [
            "Dame la primer calificacion: 55\n",
            "Dame la segunda calificacion: 84\n",
            "Dame la tercer calificacion: 69\n",
            "Dame la cuarta calificacion: 80\n",
            "Tu promedio fue:72.0 APROBADO\n"
          ]
        }
      ]
    },
    {
      "cell_type": "markdown",
      "source": [
        "#3.- Programa en PythonAlgoritmo que a través de opciones (1.- HOMBRE 2.- MUJER ) preguntar al usuario cual es su sexo y desplegar la leyenda “HOMBRE ”, “MUJER”"
      ],
      "metadata": {
        "id": "fkgQMusM69Gz"
      }
    },
    {
      "cell_type": "code",
      "source": [
        "print(\"1 = Hombre\")\n",
        "print(\"2 = Mujer\")\n",
        "sex = int(input(\"Cual es su sexo en base a las opciones anteriores:\"))\n",
        "if sex  == 1:\n",
        "    print(\"HOMBRE\")\n",
        "if sex == 2:\n",
        "    print(\"MUJER\")"
      ],
      "metadata": {
        "id": "0joexHgA4RF7",
        "colab": {
          "base_uri": "https://localhost:8080/"
        },
        "outputId": "d4328e29-f416-46bc-e508-6b05eef0d223"
      },
      "execution_count": 8,
      "outputs": [
        {
          "output_type": "stream",
          "name": "stdout",
          "text": [
            "1 = Hombre\n",
            "2 = Mujer\n",
            "Cual es su sexo en base a las opciones anteriores:1\n",
            "HOMBRE\n"
          ]
        }
      ]
    },
    {
      "cell_type": "markdown",
      "source": [
        "#4.- Programa en Python que lea un número entero, y desplegar si el número es “PAR” o “IMPAR”\n"
      ],
      "metadata": {
        "id": "wjK3UMFu8tEj"
      }
    },
    {
      "cell_type": "code",
      "source": [
        "num = int(input(\"Dame un numero:\"))\n",
        "if num % 2 == 0:\n",
        "    print(\"ES PAR\")\n",
        "if num % 3 == 1:\n",
        "    print(\"ES IMPAR\")"
      ],
      "metadata": {
        "colab": {
          "base_uri": "https://localhost:8080/"
        },
        "id": "fqsp-XcV8yTb",
        "outputId": "3c7612b8-1429-4919-a6b0-96b921ef7f3a"
      },
      "execution_count": 17,
      "outputs": [
        {
          "output_type": "stream",
          "name": "stdout",
          "text": [
            "Dame un numero:36\n",
            "ES PAR\n"
          ]
        }
      ]
    },
    {
      "cell_type": "markdown",
      "source": [
        "#5.- Programa en Python que lea 2 números enteros, usar una condición y analizar los dos números y desplegar cual de los números es el mayor.\n"
      ],
      "metadata": {
        "id": "yv3NTxnv9qe0"
      }
    },
    {
      "cell_type": "code",
      "source": [
        "num1 = int(input(\"Dame un numero: \"))\n",
        "num2 = int(input(\"Dame otro numero: \"))\n",
        "if num1 > num2:\n",
        "    print(f\"El numero {num1} es el mayor\")\n",
        "else:\n",
        "    print(f\"El numero {num2} es el mayor\")"
      ],
      "metadata": {
        "colab": {
          "base_uri": "https://localhost:8080/"
        },
        "id": "1CB7bbNj9wzz",
        "outputId": "f4499153-a1da-4adb-ba7f-f24ed607000e"
      },
      "execution_count": 4,
      "outputs": [
        {
          "output_type": "stream",
          "name": "stdout",
          "text": [
            "Dame un numero: 10\n",
            "Dame otro numero: 2\n",
            "El numero 10 es el mayor\n"
          ]
        }
      ]
    },
    {
      "cell_type": "markdown",
      "source": [
        "#6.- Programa en Python que lea 4 calificaciones de un alumno, calcular y desplegar el promedio acompañado de la leyenda APROBADO o REPROBADO"
      ],
      "metadata": {
        "id": "_7wXNijTB4Nl"
      }
    },
    {
      "cell_type": "code",
      "source": [
        "cal1 = int(input(\"Dame la primer calificacion: \"))\n",
        "cal2 = int(input(\"Dame la segunda calificacion: \"))\n",
        "cal3 = int(input(\"Dame la tercer calificacion: \"))\n",
        "cal4 = int(input(\"Dame la cuarta calificacion: \"))\n",
        "\n",
        "prom1 = (cal1 + cal2 + cal3 + cal4)/4\n",
        "\n",
        "if prom >= 60:\n",
        "    print(f\"Tu promedio fue:{prom1} APROBADO\")\n",
        "else:\n",
        "    print(f\"Tu promedio fue:{prom1} REPROBADO\")"
      ],
      "metadata": {
        "colab": {
          "base_uri": "https://localhost:8080/"
        },
        "id": "CzG_wlFOB5Xk",
        "outputId": "17f16bc5-1906-49b9-b5c7-0333a27163f4"
      },
      "execution_count": 19,
      "outputs": [
        {
          "output_type": "stream",
          "name": "stdout",
          "text": [
            "Dame la primer calificacion: 45\n",
            "Dame la segunda calificacion: 69\n",
            "Dame la tercer calificacion: 72\n",
            "Dame la cuarta calificacion: 90\n",
            "Tu promedio fue:69.0 APROBADO\n"
          ]
        }
      ]
    },
    {
      "cell_type": "markdown",
      "source": [
        "#7.- Programa en Python que a través de opciones (1.- HOMBRE 2.- MUJER ) preguntar al usuario cual es su sexo y desplegar la leyenda “HOMBRE ”, “MUJER”"
      ],
      "metadata": {
        "id": "rXvW2J-fCGnc"
      }
    },
    {
      "cell_type": "code",
      "source": [
        "print(\"1 = Hombre\")\n",
        "print(\"2 = Mujer\")\n",
        "sex = int(input(\"Cual es su sexo en base a las opciones anteriores:\"))\n",
        "if sex  == 1:\n",
        "    print(\"HOMBRE\")\n",
        "else:\n",
        "    print(\"MUJER\")"
      ],
      "metadata": {
        "colab": {
          "base_uri": "https://localhost:8080/"
        },
        "id": "Bmw33V_FCJVt",
        "outputId": "8a0b7fd2-cf2c-4a5c-8a9d-560fbf564775"
      },
      "execution_count": 22,
      "outputs": [
        {
          "output_type": "stream",
          "name": "stdout",
          "text": [
            "1 = Hombre\n",
            "2 = Mujer\n",
            "Cual es su sexo en base a las opciones anteriores:1\n",
            "HOMBRE\n"
          ]
        }
      ]
    },
    {
      "cell_type": "markdown",
      "source": [
        "#8.- Programa en Python que lea un número entero, y desplegar si el número es “PAR” o “IMPAR” NOTA: EJERCICIOS PARA SER RESUELTOS USANDO EXCLUSIVAMENTE CONDICIONES COMPUESTO"
      ],
      "metadata": {
        "id": "KkFyc934CQPN"
      }
    },
    {
      "cell_type": "code",
      "source": [
        "num = int(input(\"Dame un numero:\"))\n",
        "if num % 2 == 0:\n",
        "    print(\"ES PAR\")\n",
        "else:\n",
        "    print(\"ES IMPAR\")"
      ],
      "metadata": {
        "colab": {
          "base_uri": "https://localhost:8080/"
        },
        "id": "RE_e7yVFCTF9",
        "outputId": "b2e91fdb-1b60-496f-9d57-82ad34d96fc9"
      },
      "execution_count": 25,
      "outputs": [
        {
          "output_type": "stream",
          "name": "stdout",
          "text": [
            "Dame un numero:65\n",
            "ES IMPAR\n"
          ]
        }
      ]
    },
    {
      "cell_type": "markdown",
      "source": [
        "### https://github.com/RobertoRABL/python2023"
      ],
      "metadata": {
        "id": "Hb-EXAwX7fc8"
      }
    }
  ]
}